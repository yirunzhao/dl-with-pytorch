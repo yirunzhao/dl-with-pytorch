{
 "cells": [
  {
   "cell_type": "code",
   "execution_count": 1,
   "metadata": {},
   "outputs": [],
   "source": [
    "import numpy as np"
   ]
  },
  {
   "cell_type": "markdown",
   "metadata": {},
   "source": [
    "### 创建ndarray"
   ]
  },
  {
   "cell_type": "code",
   "execution_count": 4,
   "metadata": {},
   "outputs": [
    {
     "name": "stdout",
     "output_type": "stream",
     "text": [
      "[1 2 3 4]\n",
      "<class 'numpy.ndarray'>\n"
     ]
    }
   ],
   "source": [
    "# 列表转换成ndarray\n",
    "lst1 = [1,2,3,4]\n",
    "nd1 = np.array(lst1)\n",
    "print(nd1)\n",
    "print(type(nd1))"
   ]
  },
  {
   "cell_type": "code",
   "execution_count": 5,
   "metadata": {},
   "outputs": [
    {
     "name": "stdout",
     "output_type": "stream",
     "text": [
      "[[1 2 3]\n",
      " [2 3 4]]\n",
      "<class 'numpy.ndarray'>\n"
     ]
    }
   ],
   "source": [
    "# 嵌套列表也可以转换\n",
    "lst2 = [[1,2,3],[2,3,4]]\n",
    "nd2 = np.array(lst2)\n",
    "print(nd2)\n",
    "print(type(nd2))"
   ]
  },
  {
   "cell_type": "markdown",
   "metadata": {},
   "source": [
    "### random模块"
   ]
  },
  {
   "cell_type": "code",
   "execution_count": 7,
   "metadata": {},
   "outputs": [
    {
     "name": "stdout",
     "output_type": "stream",
     "text": [
      "[[0.03575618 0.90741235 0.55405519]\n",
      " [0.7841014  0.79976668 0.27021127]\n",
      " [0.19111785 0.43990032 0.35948964]]\n",
      "(3, 3)\n"
     ]
    }
   ],
   "source": [
    "nd3 = np.random.random([3,3]) # 生成0-1的随机数\n",
    "print(nd3)\n",
    "print(nd3.shape)"
   ]
  },
  {
   "cell_type": "code",
   "execution_count": 8,
   "metadata": {},
   "outputs": [
    {
     "name": "stdout",
     "output_type": "stream",
     "text": [
      "[[-1.0856306   0.99734545  0.2829785 ]\n",
      " [-1.50629471 -0.57860025  1.65143654]]\n",
      "(2, 3)\n",
      "after shuffle:\n",
      "[[-1.50629471 -0.57860025  1.65143654]\n",
      " [-1.0856306   0.99734545  0.2829785 ]]\n",
      "<class 'numpy.ndarray'>\n"
     ]
    }
   ],
   "source": [
    "np.random.seed(123) # 设置随机种子\n",
    "nd4 = np.random.randn(2,3) # 生成标准正态的随机数\n",
    "print(nd4)\n",
    "print(nd4.shape)\n",
    "print('after shuffle:')\n",
    "np.random.shuffle(nd4) # 随机打乱顺序\n",
    "print(nd4)\n",
    "print(type(nd4))"
   ]
  },
  {
   "cell_type": "markdown",
   "metadata": {},
   "source": [
    "### 创建特殊的ndarray"
   ]
  },
  {
   "cell_type": "code",
   "execution_count": 10,
   "metadata": {},
   "outputs": [
    {
     "name": "stdout",
     "output_type": "stream",
     "text": [
      "[[0. 0. 0.]\n",
      " [0. 0. 0.]\n",
      " [0. 0. 0.]]\n",
      "[[1. 1. 1. 1.]\n",
      " [1. 1. 1. 1.]\n",
      " [1. 1. 1. 1.]\n",
      " [1. 1. 1. 1.]]\n",
      "[[1. 0. 0.]\n",
      " [0. 1. 0.]\n",
      " [0. 0. 1.]]\n",
      "[[1 0 0]\n",
      " [0 2 0]\n",
      " [0 0 3]]\n",
      "[[123 123 123 123 123]\n",
      " [123 123 123 123 123]\n",
      " [123 123 123 123 123]]\n"
     ]
    }
   ],
   "source": [
    "nd5 = np.zeros([3,3]) # 全是0的3x3矩阵\n",
    "print(np.zeros_like(nd5)) # 和nd5的shape一样的0矩阵\n",
    "nd6 = np.ones([4,4]) # 全是1的4x4矩阵\n",
    "nd7 = np.eye(3) # 3阶单位矩阵\n",
    "nd8 = np.diag([1,2,3]) # 3阶对角矩阵\n",
    "nd9 = np.full((3,5),123) # 3x5全是123的矩阵\n",
    "\n",
    "print(nd6)\n",
    "print(nd7)\n",
    "print(nd8)\n",
    "print(nd9)"
   ]
  },
  {
   "cell_type": "markdown",
   "metadata": {},
   "source": [
    "### 如何保存ndarray的数据"
   ]
  },
  {
   "cell_type": "code",
   "execution_count": 11,
   "metadata": {},
   "outputs": [
    {
     "name": "stdout",
     "output_type": "stream",
     "text": [
      "[[0.41092437 0.5796943  0.13995076 0.40101756 0.62731701]\n",
      " [0.32415089 0.24475928 0.69475518 0.5939024  0.63179202]\n",
      " [0.44025718 0.08372648 0.71233018 0.42786349 0.2977805 ]\n",
      " [0.49208478 0.74029639 0.35772892 0.41720995 0.65472131]\n",
      " [0.37380143 0.23451288 0.98799529 0.76599595 0.77700444]]\n"
     ]
    }
   ],
   "source": [
    "nd10 = np.random.random([5,5])\n",
    "np.savetxt(X=nd10,fname='./numpy_save.txt')\n",
    "nd11 = np.loadtxt('./numpy_save.txt')\n",
    "print(nd11)"
   ]
  },
  {
   "cell_type": "markdown",
   "metadata": {},
   "source": [
    "### 利用arange和linspace生成ndarray\n",
    "- `np.arange([start], stop[,step,], dtype=None)`\n",
    "- `np.linspace(start,stop,num=50,endpoint=True,retstep=False,dtype=None)`"
   ]
  },
  {
   "cell_type": "code",
   "execution_count": 15,
   "metadata": {},
   "outputs": [
    {
     "name": "stdout",
     "output_type": "stream",
     "text": [
      "[0 1 2 3 4 5 6 7 8 9]\n",
      "[0.  0.5 1.  1.5 2.  2.5 3.  3.5 4.  4.5 5.  5.5 6.  6.5 7.  7.5 8.  8.5\n",
      " 9.  9.5]\n",
      "[9 8 7 6 5 4 3 2 1 0]\n"
     ]
    }
   ],
   "source": [
    "print(np.arange(10))\n",
    "print(np.arange(0,10,0.5))\n",
    "print(np.arange(9,-1,-1))"
   ]
  },
  {
   "cell_type": "code",
   "execution_count": 17,
   "metadata": {},
   "outputs": [
    {
     "name": "stdout",
     "output_type": "stream",
     "text": [
      "[0.         0.02040816 0.04081633 0.06122449 0.08163265 0.10204082\n",
      " 0.12244898 0.14285714 0.16326531 0.18367347 0.20408163 0.2244898\n",
      " 0.24489796 0.26530612 0.28571429 0.30612245 0.32653061 0.34693878\n",
      " 0.36734694 0.3877551  0.40816327 0.42857143 0.44897959 0.46938776\n",
      " 0.48979592 0.51020408 0.53061224 0.55102041 0.57142857 0.59183673\n",
      " 0.6122449  0.63265306 0.65306122 0.67346939 0.69387755 0.71428571\n",
      " 0.73469388 0.75510204 0.7755102  0.79591837 0.81632653 0.83673469\n",
      " 0.85714286 0.87755102 0.89795918 0.91836735 0.93877551 0.95918367\n",
      " 0.97959184 1.        ]\n"
     ]
    }
   ],
   "source": [
    "print(np.linspace(0,1))"
   ]
  },
  {
   "cell_type": "code",
   "execution_count": 30,
   "metadata": {},
   "outputs": [
    {
     "name": "stdout",
     "output_type": "stream",
     "text": [
      "[[ 0  1  2  3  4]\n",
      " [ 5  6  7  8  9]\n",
      " [10 11 12 13 14]\n",
      " [15 16 17 18 19]\n",
      " [20 21 22 23 24]]\n",
      "[[ 6  7]\n",
      " [11 12]]\n",
      "[[ 5  6  7  8  9]\n",
      " [10 11 12 13 14]]\n",
      "[[ 1  2]\n",
      " [ 6  7]\n",
      " [11 12]\n",
      " [16 17]\n",
      " [21 22]]\n",
      "[[10 12 14]\n",
      " [20 22 24]]\n"
     ]
    }
   ],
   "source": [
    "nd12 = np.arange(25).reshape((5,5))\n",
    "print(nd12)\n",
    "print(nd12[1:3,1:3])\n",
    "print(nd12[[1,2]])\n",
    "print(nd12[:,1:3])\n",
    "print(nd12[2::2,::2])"
   ]
  },
  {
   "cell_type": "markdown",
   "metadata": {},
   "source": [
    "### 使用random.choice随机抽取数据"
   ]
  },
  {
   "cell_type": "code",
   "execution_count": 38,
   "metadata": {},
   "outputs": [
    {
     "name": "stdout",
     "output_type": "stream",
     "text": [
      "[[20 17  7  3]\n",
      " [ 8 11  6 15]\n",
      " [18  1  1  3]] 110\n",
      "[[22 14  3 19]\n",
      " [ 9 12 21 20]\n",
      " [13  4  1 17]] 155\n",
      "[[24 14 22 22]\n",
      " [11 16 21 16]\n",
      " [11 24 20 23]] 224\n"
     ]
    }
   ],
   "source": [
    "a = np.arange(1,25)\n",
    "c1 = np.random.choice(a,size=(3,4)) # size指定shape\n",
    "c2 = np.random.choice(a,size=(3,4),replace=False) # 可以重复抽取\n",
    "c3 = np.random.choice(a,size=(3,4),p=a/np.sum(a)) # 指定抽取概率，不指定的话每个元素被抽取的概率相同\n",
    "print(c1,c1.sum())\n",
    "print(c2,c2.sum())\n",
    "print(c3,c3.sum())"
   ]
  },
  {
   "cell_type": "markdown",
   "metadata": {},
   "source": [
    "### 算数运算\n",
    "#### Element-wise product\n",
    "使用`np.multiply`\n",
    "#### Dot product\n",
    "使用`np.dot`"
   ]
  },
  {
   "cell_type": "code",
   "execution_count": 43,
   "metadata": {},
   "outputs": [
    {
     "name": "stdout",
     "output_type": "stream",
     "text": [
      "[[1 2]\n",
      " [3 4]]\n",
      "[[-1  4]\n",
      " [ 2 -4]]\n",
      "[[ -1   8]\n",
      " [  6 -16]]\n",
      "[[ -1   8]\n",
      " [  6 -16]]\n",
      "broadcast\n",
      "********************\n",
      "[[2 4]\n",
      " [6 8]]\n",
      "[[ 1 16]\n",
      " [ 4 16]]\n"
     ]
    }
   ],
   "source": [
    "A = np.array([[1,2],[3,4]])\n",
    "B = np.array([[-1,4],[2,-4]])\n",
    "print(A)\n",
    "print(B)\n",
    "print(A*B)\n",
    "print(np.multiply(A,B))\n",
    "print('broadcast')\n",
    "print('*'*20)\n",
    "print(A*2)\n",
    "print(B**2)"
   ]
  },
  {
   "cell_type": "code",
   "execution_count": 45,
   "metadata": {},
   "outputs": [
    {
     "name": "stdout",
     "output_type": "stream",
     "text": [
      "[[ 9 12 15]\n",
      " [19 26 33]]\n",
      "[[ 9 12 15]\n",
      " [19 26 33]]\n"
     ]
    }
   ],
   "source": [
    "a = np.array([[1,2],[3,4]])\n",
    "b = np.array([[1,2,3],[4,5,6]])\n",
    "c = np.dot(a,b)\n",
    "print(c)\n",
    "print(a.dot(b))"
   ]
  },
  {
   "cell_type": "markdown",
   "metadata": {},
   "source": [
    "### 改变数组shape\n",
    "- reshape 不改变本身\n",
    "- resize 改变本身\n",
    "- T 转置\n",
    "- ravel 展平，返回的是本体\n",
    "- flatten 展平，但是返回的是副本\n",
    "- squeeze 对维数为1的维度降维\n",
    "- transpose 对高维矩阵进行轴对换"
   ]
  },
  {
   "cell_type": "code",
   "execution_count": 54,
   "metadata": {},
   "outputs": [
    {
     "name": "stdout",
     "output_type": "stream",
     "text": [
      "[[0 1 2 3 4]\n",
      " [5 6 7 8 9]]\n",
      "[[0 1 2 3 4]\n",
      " [5 6 7 8 9]]\n",
      "[[0 1]\n",
      " [2 3]\n",
      " [4 5]\n",
      " [6 7]\n",
      " [8 9]]\n"
     ]
    }
   ],
   "source": [
    "a = np.arange(10)\n",
    "print(a.reshape(2,5))\n",
    "print(a.reshape(-1,5))\n",
    "print(a.reshape(5,-1))"
   ]
  },
  {
   "cell_type": "code",
   "execution_count": 55,
   "metadata": {},
   "outputs": [
    {
     "name": "stdout",
     "output_type": "stream",
     "text": [
      "[0 1 2 3 4 5 6 7 8 9]\n",
      "[[0 1 2 3 4]\n",
      " [5 6 7 8 9]]\n"
     ]
    }
   ],
   "source": [
    "print(a)\n",
    "a.resize(2,5)\n",
    "print(a)"
   ]
  },
  {
   "cell_type": "code",
   "execution_count": 56,
   "metadata": {},
   "outputs": [
    {
     "name": "stdout",
     "output_type": "stream",
     "text": [
      "[[0 5]\n",
      " [1 6]\n",
      " [2 7]\n",
      " [3 8]\n",
      " [4 9]]\n"
     ]
    }
   ],
   "source": [
    "print(a.T)"
   ]
  },
  {
   "cell_type": "code",
   "execution_count": 59,
   "metadata": {},
   "outputs": [
    {
     "name": "stdout",
     "output_type": "stream",
     "text": [
      "[0 1 2 3 4 5 6 7 8 9]\n"
     ]
    }
   ],
   "source": [
    "print(a.ravel())\n",
    "b = a.ravel()\n",
    "b[2] = 123"
   ]
  },
  {
   "cell_type": "code",
   "execution_count": 60,
   "metadata": {},
   "outputs": [
    {
     "name": "stdout",
     "output_type": "stream",
     "text": [
      "[  0   1 123   3   4   5   6   7   8   9]\n",
      "[[  0   1 123   3   4]\n",
      " [  5   6   7   8   9]]\n"
     ]
    }
   ],
   "source": [
    "print(a.flatten())\n",
    "print(a)\n"
   ]
  },
  {
   "cell_type": "code",
   "execution_count": 61,
   "metadata": {},
   "outputs": [
    {
     "name": "stdout",
     "output_type": "stream",
     "text": [
      "(3, 1)\n",
      "(3,)\n",
      "(3, 1, 2, 1)\n",
      "(3, 2)\n"
     ]
    }
   ],
   "source": [
    "a = np.arange(3).reshape(3,1)\n",
    "print(a.shape)\n",
    "b = np.squeeze(a)\n",
    "print(b.shape)\n",
    "c = np.arange(6).reshape(3,1,2,1)\n",
    "print(c.shape)\n",
    "d = np.squeeze(c)\n",
    "print(d.shape)"
   ]
  },
  {
   "cell_type": "code",
   "execution_count": 62,
   "metadata": {},
   "outputs": [
    {
     "name": "stdout",
     "output_type": "stream",
     "text": [
      "(2, 3, 4)\n",
      "(3, 4, 2)\n"
     ]
    }
   ],
   "source": [
    "# transpose可以把图片的RGB改成GBR\n",
    "# 进行了轴对换\n",
    "a = np.arange(24).reshape(2,3,4)\n",
    "print(a.shape)\n",
    "print(a.transpose(1,2,0).shape)"
   ]
  },
  {
   "cell_type": "markdown",
   "metadata": {},
   "source": [
    "### 合并ndarray\n",
    "- np.append\n",
    "- np.concatenate\n",
    "- np.stack 沿着新的轴加入数组\n",
    "- np.hstack 水平\n",
    "- np.vstack 垂直\n",
    "- np.dstack 按顺序深入\n",
    "- np.vsplit 分解成垂直的多个子数组"
   ]
  },
  {
   "cell_type": "code",
   "execution_count": 3,
   "metadata": {},
   "outputs": [
    {
     "name": "stdout",
     "output_type": "stream",
     "text": [
      "[1 2 3 2 3 4] (6,)\n"
     ]
    }
   ],
   "source": [
    "a = np.array([1,2,3])\n",
    "b = np.array([2,3,4])\n",
    "c = np.append(a,b)\n",
    "print(c,c.shape)"
   ]
  },
  {
   "cell_type": "code",
   "execution_count": 6,
   "metadata": {},
   "outputs": [
    {
     "name": "stdout",
     "output_type": "stream",
     "text": [
      "[[0 1]\n",
      " [2 3]\n",
      " [0 1]\n",
      " [2 3]]\n",
      "[[0 1 0 1]\n",
      " [2 3 2 3]]\n"
     ]
    }
   ],
   "source": [
    "a = np.arange(4).reshape(2,2)\n",
    "b = np.arange(4).reshape(2,2)\n",
    "c = np.append(a,b,axis=0) # 按照行合并\n",
    "print(c)\n",
    "c = np.append(a,b,axis=1) # 按列合并\n",
    "print(c)"
   ]
  },
  {
   "cell_type": "code",
   "execution_count": 15,
   "metadata": {},
   "outputs": [
    {
     "name": "stdout",
     "output_type": "stream",
     "text": [
      "[[1 2]\n",
      " [3 4]]\n",
      "[[5]\n",
      " [6]]\n",
      "[[1 2]\n",
      " [3 4]\n",
      " [5 6]]\n",
      "[[1 2 5]\n",
      " [3 4 6]]\n"
     ]
    }
   ],
   "source": [
    "a = np.array([[1,2],[3,4]])\n",
    "b = np.array([[5,6]])\n",
    "c = np.concatenate((a,b),axis=0)\n",
    "print(a)\n",
    "print(b.T)\n",
    "print(c)\n",
    "c = np.concatenate((a,b.T),axis=1)\n",
    "print(c)"
   ]
  },
  {
   "cell_type": "code",
   "execution_count": 31,
   "metadata": {},
   "outputs": [
    {
     "name": "stdout",
     "output_type": "stream",
     "text": [
      "[[[1 2]\n",
      "  [3 4]]\n",
      "\n",
      " [[2 3]\n",
      "  [4 5]]] (2, 2, 2)\n",
      "[[1 2]\n",
      " [3 4]\n",
      " [2 3]\n",
      " [4 5]]\n",
      "[[1 2 2 3]\n",
      " [3 4 4 5]]\n"
     ]
    }
   ],
   "source": [
    "a = np.array([[1,2],[3,4]])\n",
    "b = np.array([[2,3],[4,5]])\n",
    "c = np.stack((a,b))\n",
    "print(c,c.shape)\n",
    "d = np.vstack((a,b))\n",
    "print(d)\n",
    "e = np.hstack((a,b))\n",
    "print(e)"
   ]
  },
  {
   "cell_type": "markdown",
   "metadata": {},
   "source": [
    "### 批量处理"
   ]
  },
  {
   "cell_type": "code",
   "execution_count": null,
   "metadata": {},
   "outputs": [],
   "source": [
    "# 假设要求每一批次的和\n",
    "# 获得数据集\n",
    "data_train = np.random.randn(10000,2,3) # 10000x2x3的数据，10000是样本个数\n",
    "print(data_train.shape)\n",
    "# 打乱数据\n",
    "np.random.shuffle(data_train)\n",
    "# 定义批量大小\n",
    "batch_size = 64\n",
    "# 进行处理\n",
    "for i in range(0,len(data_train),batch_size):\n",
    "    # 取batch个样本\n",
    "    x_batch_sum = np.sum(data_train[i:i+batch_size])\n",
    "    print(f'第{i}批次，样本数据和为{x_batch_sum}')\n",
    "    "
   ]
  },
  {
   "cell_type": "markdown",
   "metadata": {},
   "source": [
    "### universal function\n",
    "相比于math，性能更好，并且输入可以是vector和matrix"
   ]
  },
  {
   "cell_type": "code",
   "execution_count": 37,
   "metadata": {},
   "outputs": [
    {
     "name": "stdout",
     "output_type": "stream",
     "text": [
      "math sin: 0.21023100000000028\n",
      "numpy sin: 0.009890000000002175\n"
     ]
    }
   ],
   "source": [
    "# 比较一下性能\n",
    "import time \n",
    "import math\n",
    "\n",
    "x = [i * 0.001 for i in np.arange(1000000)]\n",
    "start = time.process_time()\n",
    "for i,t in enumerate(x):\n",
    "    x[i] = math.sin(t)\n",
    "print('math sin:',time.process_time()-start)\n",
    "\n",
    "x = [i * 0.001 for i in np.arange(1000000)]\n",
    "x = np.array(x)\n",
    "start = time.process_time()\n",
    "np.sin(x)\n",
    "print('numpy sin:',time.process_time()-start)"
   ]
  },
  {
   "cell_type": "markdown",
   "metadata": {},
   "source": [
    "### 广播机制\n",
    "数组的shape不相通的时候，会调整数组shape，但是有一定的规则\n",
    "1. 所有输入的数组向shape最长的数组看齐，不足的在前面补1\n",
    "\n",
    "比如a.shape=(1,2,3),b.shape(1,2)，就把b补成(1,1,2)\n",
    "\n",
    "2. 输出的数组shape是输入数组shape各个axis上面的最大值\n",
    "\n",
    "3. 输入数组的某个轴和输出数组的对应轴长度相同或者某个轴长度为1时，数组能用来计算\n",
    "\n",
    "4. 输入数组某个轴长度为1，则运算都是用第一个值"
   ]
  },
  {
   "cell_type": "code",
   "execution_count": 38,
   "metadata": {},
   "outputs": [
    {
     "name": "stdout",
     "output_type": "stream",
     "text": [
      "[[ 0]\n",
      " [10]\n",
      " [20]\n",
      " [30]]\n",
      "[0 1 2]\n",
      "[[ 0  1  2]\n",
      " [10 11 12]\n",
      " [20 21 22]\n",
      " [30 31 32]]\n"
     ]
    }
   ],
   "source": [
    "a = np.arange(0,40,10).reshape(4,1)\n",
    "b = np.arange(0,3)\n",
    "print(a)\n",
    "print(b)\n",
    "print(a+b)"
   ]
  }
 ],
 "metadata": {
  "kernelspec": {
   "display_name": "PytorchForDeeplearning",
   "language": "python",
   "name": "pytorch"
  },
  "language_info": {
   "codemirror_mode": {
    "name": "ipython",
    "version": 3
   },
   "file_extension": ".py",
   "mimetype": "text/x-python",
   "name": "python",
   "nbconvert_exporter": "python",
   "pygments_lexer": "ipython3",
   "version": "3.7.7"
  }
 },
 "nbformat": 4,
 "nbformat_minor": 2
}
