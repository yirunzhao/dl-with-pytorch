{
 "cells": [
  {
   "cell_type": "markdown",
   "metadata": {},
   "source": [
    "### 概述\n",
    "#### torch.utils.data工具包\n",
    "包括4个类\n",
    "- Dataset: 是一个抽象类，其他数据集需要继承这个类，并且重写_getitem_和__len__\n",
    "- DataLoader: 定义一个新的迭代器，实现批量batch读取，打乱数据shuffle以及并行加速\n",
    "- random_split: 把数据集随机拆分为给定长度的非重叠的新数据集\n",
    "- \\*sampler: 多种采样函数\n",
    "\n",
    "#### torchvision\n",
    "是独立于pytorch的一个视觉处理工具包，包括4个类\n",
    "- datasets: 提供常用的数据集，设计上都是继承自torch.utils.data.Dataset，有MNIST,CIFAR10/100,ImageNet,COCO等\n",
    "- models: 提供深度学习中各种经典的网络结构以及训练好的模型(需要参数pretrained=True)，包括AlexNet,VGG,ResNet,Inception等\n",
    "- transforms: 常用的数据预处理操作，主要包括对Tensor以及PIL Image对象的操作\n",
    "- utils: 含有两个函数\n",
    "    1. make_grid：可以将多张图片拼接在一个网格中\n",
    "    2. save_img：将Tensor保存为图片"
   ]
  },
  {
   "cell_type": "markdown",
   "metadata": {},
   "source": [
    "### utils.data\n",
    "##### Dataset\n",
    "是抽象类，需要实现__len__，用来获得数据的大小(size)，和__getitem__，用来根据指定索引获得数据和标签，一次只能获取一个数据，所以需要通过DataLoader定义一个新的迭代器，实现批量batch读取"
   ]
  },
  {
   "cell_type": "code",
   "execution_count": 6,
   "metadata": {},
   "outputs": [],
   "source": [
    "# 导入需要的module\n",
    "import torch\n",
    "from torch.utils import data\n",
    "import numpy as np"
   ]
  },
  {
   "cell_type": "code",
   "execution_count": 11,
   "metadata": {},
   "outputs": [],
   "source": [
    "# 定义获取数据集的类\n",
    "class TestDataset(data.Dataset):\n",
    "    def __init__(self):\n",
    "        self.Data = np.asarray([[1,2],[3,4],[2,1],[3,4],[5,6]]) # 一些2维向量表示的数据集\n",
    "        self.Label = np.asarray([0,1,0,1,2]) # 表示label\n",
    "        \n",
    "    def __getitem__(self,index):\n",
    "        # 把numpy 转换成tensor\n",
    "        txt = torch.from_numpy(self.Data[index])\n",
    "        label = torch.tensor(self.Label[index])\n",
    "        \n",
    "        return txt,label\n",
    "    \n",
    "    def __len__(self):\n",
    "        return len(self.Data)"
   ]
  },
  {
   "cell_type": "code",
   "execution_count": 12,
   "metadata": {},
   "outputs": [],
   "source": [
    "# 获取数据集中的数据\n",
    "Test = TestDataset()"
   ]
  },
  {
   "cell_type": "code",
   "execution_count": 19,
   "metadata": {},
   "outputs": [
    {
     "data": {
      "text/plain": [
       "(tensor([1, 2]), tensor(0))"
      ]
     },
     "execution_count": 19,
     "metadata": {},
     "output_type": "execute_result"
    }
   ],
   "source": [
    "Test[0]"
   ]
  },
  {
   "cell_type": "markdown",
   "metadata": {},
   "source": [
    "数据是tuple返回，每次返回一个样本，Dataset只负责数据的抽取，调用一次__getitem__只返回一个样本\n",
    "\n",
    "如果需要batch操作，还要同时shuffle和并行加速，需要使用DataLoader"
   ]
  },
  {
   "cell_type": "markdown",
   "metadata": {},
   "source": [
    "### DataLoader的格式为\n",
    "```python\n",
    "data.DataLoader(\n",
    "    dataset, #需要加载的数据集\n",
    "    batch_size=1, #批大小\n",
    "    shuffle=False, \n",
    "    sampler=None, #样本抽样\n",
    "    batch_sampler=None, \n",
    "    num_workers=0, #使用多进程加载的进程数，0代表不实用多进程\n",
    "    collate_fn=, #如何将多个样本数据拼接成一个batch，一般默认\n",
    "    pin_memory=False, #是否将数据保存在pin memory区域，这个区域的数据转到GPU会快一些\n",
    "    drop_last=False, #如果dataset划分为batch不整除，是否丢弃多余部分\n",
    "    timeout=0,\n",
    "    worker_init_fn=None\n",
    ")\n",
    "```"
   ]
  },
  {
   "cell_type": "code",
   "execution_count": 21,
   "metadata": {},
   "outputs": [
    {
     "name": "stdout",
     "output_type": "stream",
     "text": [
      "i: 0\n",
      "data: tensor([[2, 1],\n",
      "        [3, 4]])\n",
      "label: tensor([0, 1])\n",
      "i: 1\n",
      "data: tensor([[5, 6],\n",
      "        [3, 4]])\n",
      "label: tensor([2, 1])\n",
      "i: 2\n",
      "data: tensor([[1, 2]])\n",
      "label: tensor([0])\n"
     ]
    }
   ],
   "source": [
    "test_loader = data.DataLoader(dataset=Test,batch_size=2,shuffle=True,num_workers=2)\n",
    "for i, train_data in enumerate(test_loader):\n",
    "    print('i:',i)\n",
    "    data,label = train_data\n",
    "    print('data:',data)\n",
    "    print('label:',label)"
   ]
  },
  {
   "cell_type": "markdown",
   "metadata": {},
   "source": [
    "我们可以像使用迭代器一样使用它，但是它不是真正的迭代器，可以使用iter转换成迭代器\n",
    "```python\n",
    "data_iter = iter(test_loader)\n",
    "imgs,labels = next(data_iter)\n",
    "```\n",
    "**一般使用data.Dataset处理同一个目录下的数据，如果数据在不同目录下，代表不同类别，就需要torchvision来处理，torchvision可以自动获取标签，提供了很多数据预处理、数据增强等函数**"
   ]
  },
  {
   "cell_type": "markdown",
   "metadata": {},
   "source": [
    "### torchvision\n",
    "#### transforms\n",
    "提供了对PIL Image对象和Tensor对象的操作\n",
    "1. 对PIL Image的操作\n",
    "- Scale/Resize：调整尺寸，长宽比保持不变\n",
    "- CenterCrop、RandomCrop、RandomSizedCrop：裁剪图片，前两个在crop的时候需要提供size，而最后一个是random size的crop\n",
    "- Pad：填充\n",
    "- ToTensor：把一个取值范围是[0,255]的PIL.Image转换成Tensor；numpy中的ndarray的shape是(H,W,C)，转换成[C,H,W]的tensor，转换成torch.FloatTensor，取值范围是[0.0,1.0]\n",
    "- RandomHorizontalFlip：随机水平翻转\n",
    "- RandomVerticalFlip\n",
    "- ColorJitter：修改亮度、饱和度、对比度\n",
    "2. 对Tensor的操作\n",
    "- Normalize：标准化\n",
    "- ToPILImage\n",
    "\n",
    "如果要对数据集进行多个操作，可以使用Compose将操作像管道一样拼接起来，类似于nn.Sequential\n",
    "```python\n",
    "transforms.Compose([\n",
    "    transforms.CenterCrop(10), # 提供一个参数，切出来就是正方形\n",
    "    transforms.RandomCrop(20,padding=0),\n",
    "    transforms.ToTensor(),\n",
    "    transforms.Normalize(mean=(0.5,0.5,0.5),std=(0.5,0.5,0.5))\n",
    "])\n",
    "```\n",
    "\n",
    "#### ImageFolder\n",
    "如果文件根据标签处于不同文件夹下，可以使用torchvision.datasets.ImageFolder构造出dataset\n",
    "```python\n",
    "loader = datasets.ImageFolder(path)\n",
    "loader = data.Dataloader(dataset)\n",
    "```\n",
    "ImageFolder会将目录中的文件夹名自动转化成序列，当DataLoader载入的时候，标签就是整数序列"
   ]
  },
  {
   "cell_type": "code",
   "execution_count": 4,
   "metadata": {},
   "outputs": [],
   "source": [
    "from torchvision import transforms, utils\n",
    "from torchvision import datasets\n",
    "from torch.utils import data\n",
    "import torch\n",
    "import matplotlib.pyplot as plt\n",
    "%matplotlib inline"
   ]
  },
  {
   "cell_type": "code",
   "execution_count": 5,
   "metadata": {},
   "outputs": [],
   "source": [
    "my_trans = transforms.Compose([\n",
    "    transforms.RandomResizedCrop(224),\n",
    "    transforms.RandomHorizontalFlip(),\n",
    "    transforms.ToTensor()\n",
    "])"
   ]
  },
  {
   "cell_type": "code",
   "execution_count": 6,
   "metadata": {},
   "outputs": [
    {
     "name": "stdout",
     "output_type": "stream",
     "text": [
      "tensor([1, 1, 0, 1, 0, 1, 0, 0])\n"
     ]
    },
    {
     "data": {
      "image/png": "[encoded data removed]",
      "text/plain": [
       "<Figure size 432x288 with 1 Axes>"
      ]
     },
     "metadata": {
      "needs_background": "light"
     },
     "output_type": "display_data"
    }
   ],
   "source": [
    "train_data = datasets.ImageFolder('./data/catanddog',transform=my_trans)\n",
    "train_loader = data.DataLoader(train_data,batch_size=8,shuffle=True)\n",
    "\n",
    "for i_batch, img in enumerate(train_loader):\n",
    "    if i_batch == 0:\n",
    "        print(img[1])\n",
    "        fig = plt.figure()\n",
    "        grid = utils.make_grid(img[0])\n",
    "        plt.imshow(grid.numpy().transpose((1,2,0)))\n",
    "        plt.show()\n",
    "        utils.save_image(grid,'test01.jpg')\n",
    "        \n",
    "    break"
   ]
  },
  {
   "cell_type": "code",
   "execution_count": 11,
   "metadata": {},
   "outputs": [
    {
     "name": "stdout",
     "output_type": "stream",
     "text": [
      "torch.Size([8, 3, 224, 224])\n",
      "tensor([0, 0, 0, 1, 1, 0, 1, 1])\n"
     ]
    }
   ],
   "source": [
    "# 看一下DataLoader的结构\n",
    "for a,b in train_loader:\n",
    "    print(a.shape)\n",
    "    print(b)\n",
    "    break"
   ]
  },
  {
   "cell_type": "code",
   "execution_count": null,
   "metadata": {},
   "outputs": [],
   "source": []
  }
 ],
 "metadata": {
  "kernelspec": {
   "display_name": "PytorchForDeeplearning",
   "language": "python",
   "name": "pytorch"
  },
  "language_info": {
   "codemirror_mode": {
    "name": "ipython",
    "version": 3
   },
   "file_extension": ".py",
   "mimetype": "text/x-python",
   "name": "python",
   "nbconvert_exporter": "python",
   "pygments_lexer": "ipython3",
   "version": "3.7.7"
  }
 },
 "nbformat": 4,
 "nbformat_minor": 2
}
