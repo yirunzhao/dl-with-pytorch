{
 "cells": [
  {
   "cell_type": "markdown",
   "metadata": {},
   "source": [
    "### Pytorch的4个主要的包\n",
    "- torch 类似于numpy的通用包，可以将tensor类型转换，然后在GPU上运算\n",
    "- torch.autograd 构建计算图形并且自动获取梯度的包\n",
    "- torch.nn 神经网络库\n",
    "- torch.optim 通用优化算法的包"
   ]
  },
  {
   "cell_type": "markdown",
   "metadata": {},
   "source": [
    "Tensor称为张量，和numpy的ndarray比较相似\n",
    "\n",
    "torch中如果函数后面带了下划线_，就表示结果改变原来的数据"
   ]
  },
  {
   "cell_type": "code",
   "execution_count": 1,
   "metadata": {},
   "outputs": [],
   "source": [
    "import torch"
   ]
  },
  {
   "cell_type": "code",
   "execution_count": 3,
   "metadata": {},
   "outputs": [
    {
     "name": "stdout",
     "output_type": "stream",
     "text": [
      "tensor([4, 6])\n",
      "tensor([1, 2])\n",
      "tensor([4, 6])\n"
     ]
    }
   ],
   "source": [
    "x = torch.tensor([1,2])\n",
    "y = torch.tensor([3,4])\n",
    "\n",
    "z = x.add(y)\n",
    "print(z)\n",
    "print(x)\n",
    "x.add_(y)\n",
    "print(x)"
   ]
  },
  {
   "cell_type": "markdown",
   "metadata": {},
   "source": [
    "### 创建tensor的方法\n",
    "- Tensor(size) 可以从list、ndarray构造tensor，这个是一个类，实际上是FloatTensor，tensor是一个函数，返回一个tensor，有这个区别\n",
    "- eye(row,col)\n",
    "- linspace(start,end,steps)\n",
    "- logspace()\n",
    "- rand/randn(size)\n",
    "- ones()\n",
    "- zeros()\n",
    "- ones_like()\n",
    "- zeros_like()\n",
    "- arange(start,end,step0\n",
    "- form_Numpy(ndarray)"
   ]
  },
  {
   "cell_type": "code",
   "execution_count": 4,
   "metadata": {},
   "outputs": [
    {
     "data": {
      "text/plain": [
       "tensor([1., 2., 3., 4., 5., 6.])"
      ]
     },
     "execution_count": 4,
     "metadata": {},
     "output_type": "execute_result"
    }
   ],
   "source": [
    "torch.Tensor([1,2,3,4,5,6])"
   ]
  },
  {
   "cell_type": "code",
   "execution_count": 5,
   "metadata": {},
   "outputs": [
    {
     "data": {
      "text/plain": [
       "tensor([[8.4078e-45, 0.0000e+00, 0.0000e+00],\n",
       "        [0.0000e+00, 0.0000e+00, 0.0000e+00]])"
      ]
     },
     "execution_count": 5,
     "metadata": {},
     "output_type": "execute_result"
    }
   ],
   "source": [
    "torch.Tensor(2,3)"
   ]
  },
  {
   "cell_type": "code",
   "execution_count": 9,
   "metadata": {},
   "outputs": [
    {
     "data": {
      "text/plain": [
       "torch.Size([2, 3])"
      ]
     },
     "execution_count": 9,
     "metadata": {},
     "output_type": "execute_result"
    }
   ],
   "source": [
    "a = torch.Tensor([[1,2,3],[2,3,4]])\n",
    "a.size()\n",
    "# a.shape"
   ]
  },
  {
   "cell_type": "code",
   "execution_count": 10,
   "metadata": {},
   "outputs": [
    {
     "data": {
      "text/plain": [
       "tensor([[0.0000e+00, 2.0000e+00, 1.8754e+28],\n",
       "        [1.6244e-07, 2.1533e+23, 1.0243e-11]])"
      ]
     },
     "execution_count": 10,
     "metadata": {},
     "output_type": "execute_result"
    }
   ],
   "source": [
    "torch.Tensor(a.size())"
   ]
  },
  {
   "cell_type": "code",
   "execution_count": 11,
   "metadata": {},
   "outputs": [
    {
     "data": {
      "text/plain": [
       "tensor([[1., 0.],\n",
       "        [0., 1.]])"
      ]
     },
     "execution_count": 11,
     "metadata": {},
     "output_type": "execute_result"
    }
   ],
   "source": [
    "torch.eye(2,2)"
   ]
  },
  {
   "cell_type": "code",
   "execution_count": 12,
   "metadata": {},
   "outputs": [
    {
     "data": {
      "text/plain": [
       "tensor([[0., 0., 0., 0., 0.],\n",
       "        [0., 0., 0., 0., 0.]])"
      ]
     },
     "execution_count": 12,
     "metadata": {},
     "output_type": "execute_result"
    }
   ],
   "source": [
    "torch.zeros(2,5)"
   ]
  },
  {
   "cell_type": "code",
   "execution_count": 14,
   "metadata": {},
   "outputs": [
    {
     "data": {
      "text/plain": [
       "tensor([ 0.,  5., 10.])"
      ]
     },
     "execution_count": 14,
     "metadata": {},
     "output_type": "execute_result"
    }
   ],
   "source": [
    "torch.linspace(0,10,3) # 切成3份"
   ]
  },
  {
   "cell_type": "code",
   "execution_count": 15,
   "metadata": {},
   "outputs": [
    {
     "data": {
      "text/plain": [
       "tensor([[0.3742, 0.4338, 0.6284],\n",
       "        [0.1618, 0.8930, 0.2875]])"
      ]
     },
     "execution_count": 15,
     "metadata": {},
     "output_type": "execute_result"
    }
   ],
   "source": [
    "torch.rand(2,3) # 满足均匀分布"
   ]
  },
  {
   "cell_type": "code",
   "execution_count": 16,
   "metadata": {},
   "outputs": [
    {
     "data": {
      "text/plain": [
       "tensor([[-0.1378, -0.2036, -0.1976],\n",
       "        [ 0.0126, -1.4708,  2.4083]])"
      ]
     },
     "execution_count": 16,
     "metadata": {},
     "output_type": "execute_result"
    }
   ],
   "source": [
    "torch.randn(2,3) # 满足组标准分布"
   ]
  },
  {
   "cell_type": "code",
   "execution_count": 17,
   "metadata": {},
   "outputs": [
    {
     "data": {
      "text/plain": [
       "tensor([[0., 0., 0., 0.],\n",
       "        [0., 0., 0., 0.],\n",
       "        [0., 0., 0., 0.]])"
      ]
     },
     "execution_count": 17,
     "metadata": {},
     "output_type": "execute_result"
    }
   ],
   "source": [
    "torch.zeros_like(torch.randn(3,4))"
   ]
  },
  {
   "cell_type": "markdown",
   "metadata": {},
   "source": [
    "### 修改tensor形状\n",
    "- size()\n",
    "- numel(input) 计算元素个数\n",
    "- view(shape) 修改tensor的shape，和reshape类似，但是返回的对象和源tensor共享内存，reshape生成新的tensor\n",
    "- resize()\n",
    "- item()\n",
    "- unsqueeze() 在指定维度增加一个1\n",
    "- squeeze() 在指定维度压缩一个1"
   ]
  },
  {
   "cell_type": "code",
   "execution_count": 23,
   "metadata": {},
   "outputs": [
    {
     "name": "stdout",
     "output_type": "stream",
     "text": [
      "tensor([[1.4235, 0.9236, 0.7080],\n",
      "        [0.4487, 0.6863, 0.8053]])\n"
     ]
    },
    {
     "data": {
      "text/plain": [
       "torch.Size([2, 3])"
      ]
     },
     "execution_count": 23,
     "metadata": {},
     "output_type": "execute_result"
    }
   ],
   "source": [
    "x = torch.randn(2,3)\n",
    "print(x)\n",
    "x.size()"
   ]
  },
  {
   "cell_type": "code",
   "execution_count": 24,
   "metadata": {},
   "outputs": [
    {
     "data": {
      "text/plain": [
       "2"
      ]
     },
     "execution_count": 24,
     "metadata": {},
     "output_type": "execute_result"
    }
   ],
   "source": [
    "x.dim()"
   ]
  },
  {
   "cell_type": "code",
   "execution_count": 27,
   "metadata": {},
   "outputs": [
    {
     "data": {
      "text/plain": [
       "tensor([[1.4235, 0.9236],\n",
       "        [0.7080, 0.4487],\n",
       "        [0.6863, 0.8053]])"
      ]
     },
     "execution_count": 27,
     "metadata": {},
     "output_type": "execute_result"
    }
   ],
   "source": [
    "# 把x变成3x2的矩阵\n",
    "x.view(3,2)"
   ]
  },
  {
   "cell_type": "code",
   "execution_count": 28,
   "metadata": {},
   "outputs": [
    {
     "data": {
      "text/plain": [
       "tensor([1.4235, 0.9236, 0.7080, 0.4487, 0.6863, 0.8053])"
      ]
     },
     "execution_count": 28,
     "metadata": {},
     "output_type": "execute_result"
    }
   ],
   "source": [
    "# 把x展平\n",
    "y = x.view(-1)\n",
    "y"
   ]
  },
  {
   "cell_type": "code",
   "execution_count": 36,
   "metadata": {},
   "outputs": [
    {
     "name": "stdout",
     "output_type": "stream",
     "text": [
      "tensor([[1.4235, 0.9236, 0.7080, 0.4487, 0.6863, 0.8053]])\n",
      "torch.Size([1, 6])\n",
      "6\n"
     ]
    }
   ],
   "source": [
    "# 增加一个维度\n",
    "z = torch.unsqueeze(y,axis=0)\n",
    "print(z)\n",
    "print(z.size())\n",
    "print(z.numel())"
   ]
  },
  {
   "cell_type": "code",
   "execution_count": 37,
   "metadata": {},
   "outputs": [
    {
     "data": {
      "text/plain": [
       "tensor([0.2956, 0.5640, 0.2597, 0.3066, 0.6333, 0.6183])"
      ]
     },
     "execution_count": 37,
     "metadata": {},
     "output_type": "execute_result"
    }
   ],
   "source": [
    "torch.rand(2,3).view(-1)"
   ]
  },
  {
   "cell_type": "markdown",
   "metadata": {},
   "source": [
    "### 索引操作"
   ]
  },
  {
   "cell_type": "code",
   "execution_count": 40,
   "metadata": {},
   "outputs": [
    {
     "name": "stdout",
     "output_type": "stream",
     "text": [
      "tensor([[ 0.3607, -0.2859, -0.3938],\n",
      "        [ 0.2429, -1.3833, -2.3134]])\n"
     ]
    }
   ],
   "source": [
    "torch.manual_seed(100)\n",
    "x = torch.randn(2,3)\n",
    "print(x)"
   ]
  },
  {
   "cell_type": "code",
   "execution_count": 41,
   "metadata": {},
   "outputs": [
    {
     "data": {
      "text/plain": [
       "tensor([ 0.3607, -0.2859, -0.3938])"
      ]
     },
     "execution_count": 41,
     "metadata": {},
     "output_type": "execute_result"
    }
   ],
   "source": [
    "x[0,:]"
   ]
  },
  {
   "cell_type": "code",
   "execution_count": 42,
   "metadata": {},
   "outputs": [
    {
     "data": {
      "text/plain": [
       "tensor([-0.3938, -2.3134])"
      ]
     },
     "execution_count": 42,
     "metadata": {},
     "output_type": "execute_result"
    }
   ],
   "source": [
    "x[:,-1]"
   ]
  },
  {
   "cell_type": "code",
   "execution_count": 43,
   "metadata": {},
   "outputs": [
    {
     "data": {
      "text/plain": [
       "tensor([0.3607, 0.2429])"
      ]
     },
     "execution_count": 43,
     "metadata": {},
     "output_type": "execute_result"
    }
   ],
   "source": [
    "mask = x > 0\n",
    "torch.masked_select(x,mask)"
   ]
  },
  {
   "cell_type": "code",
   "execution_count": 44,
   "metadata": {},
   "outputs": [
    {
     "data": {
      "text/plain": [
       "tensor([[0, 0],\n",
       "        [0, 1],\n",
       "        [0, 2],\n",
       "        [1, 0],\n",
       "        [1, 1],\n",
       "        [1, 2]])"
      ]
     },
     "execution_count": 44,
     "metadata": {},
     "output_type": "execute_result"
    }
   ],
   "source": [
    "torch.nonzero(x)"
   ]
  },
  {
   "cell_type": "markdown",
   "metadata": {},
   "source": [
    "### 索引\n",
    "- index_select(input,dim,index) 指定维度上选择\n",
    "- nonzero() 获取非0元素下标\n",
    "- masked_select() 使用mask选择\n",
    "- gather(input,dim,index) 在指定维度上选择数据，输出的shape和index相同\n",
    "- scatter_(input,dim,index,src) 是gather的反向操作，补充数据"
   ]
  },
  {
   "cell_type": "code",
   "execution_count": 47,
   "metadata": {},
   "outputs": [
    {
     "name": "stdout",
     "output_type": "stream",
     "text": [
      "tensor([[ 0.3607, -0.2859, -0.3938],\n",
      "        [ 0.2429, -1.3833, -2.3134]])\n"
     ]
    },
    {
     "data": {
      "text/plain": [
       "tensor([[ 0.3607, -1.3833, -2.3134]])"
      ]
     },
     "execution_count": 47,
     "metadata": {},
     "output_type": "execute_result"
    }
   ],
   "source": [
    "print(x)\n",
    "index = torch.LongTensor([[0,1,1]])\n",
    "torch.gather(x,0,index)"
   ]
  },
  {
   "cell_type": "code",
   "execution_count": 48,
   "metadata": {},
   "outputs": [
    {
     "name": "stdout",
     "output_type": "stream",
     "text": [
      "tensor([[ 0.3607, -0.2859, -0.2859],\n",
      "        [-1.3833, -1.3833, -1.3833]])\n"
     ]
    }
   ],
   "source": [
    "index = torch.LongTensor([[0,1,1],[1,1,1]])\n",
    "a = torch.gather(x,1,index)\n",
    "print(a)"
   ]
  },
  {
   "cell_type": "markdown",
   "metadata": {},
   "source": [
    "gather的输出就是index的shape，需要看dim来选择，比如第二个示例它的shape=2x3，dim=1，那么就是横着选"
   ]
  },
  {
   "cell_type": "code",
   "execution_count": 49,
   "metadata": {},
   "outputs": [
    {
     "data": {
      "text/plain": [
       "tensor([[ 0.3607, -0.2859,  0.0000],\n",
       "        [ 0.0000, -1.3833,  0.0000]])"
      ]
     },
     "execution_count": 49,
     "metadata": {},
     "output_type": "execute_result"
    }
   ],
   "source": [
    "z = torch.zeros(2,3)\n",
    "z.scatter_(1,index,a)"
   ]
  },
  {
   "cell_type": "markdown",
   "metadata": {},
   "source": [
    "### element-wise 操作\n",
    "- add/abs\n",
    "- addcdiv(t,v,t1,t2) t1,t2按元素除之后乘以v加上t\n",
    "- addcmul(t,v,t1,t2) t1,t2按元素乘之后乘以v加上t\n",
    "- ceil/floor 向上/下取整\n",
    "- clamp(t,min,max) 把tensor的元素限制到指定区间\n",
    "- exp/log/pow\n",
    "- mul(\\*)/neg 乘法/取反\n",
    "- sigmoid/tanh/softmax\n",
    "- sign/sqrt 取符号/开根号"
   ]
  },
  {
   "cell_type": "code",
   "execution_count": 50,
   "metadata": {},
   "outputs": [
    {
     "name": "stdout",
     "output_type": "stream",
     "text": [
      "tensor([[-0.2759],\n",
      "        [-0.9755],\n",
      "        [ 0.4790]]) tensor([[-2.3652, -0.8047,  0.6587]])\n"
     ]
    },
    {
     "data": {
      "text/plain": [
       "tensor([[-0.2589, -0.6946,  1.5388],\n",
       "        [-0.1110, -0.2599,  1.0078],\n",
       "        [-0.4185, -1.1637,  2.1118]])"
      ]
     },
     "execution_count": 50,
     "metadata": {},
     "output_type": "execute_result"
    }
   ],
   "source": [
    "t = torch.randn(1,3)\n",
    "t1 = torch.randn(3,1)\n",
    "t2 = torch.randn(1,3)\n",
    "print(t1,t2)\n",
    "torch.addcdiv(t,0.5,t1,t2)"
   ]
  },
  {
   "cell_type": "code",
   "execution_count": 51,
   "metadata": {},
   "outputs": [
    {
     "data": {
      "text/plain": [
       "tensor([[-0.3172, -0.8660,  1.7482]])"
      ]
     },
     "execution_count": 51,
     "metadata": {},
     "output_type": "execute_result"
    }
   ],
   "source": [
    "t"
   ]
  },
  {
   "cell_type": "code",
   "execution_count": 53,
   "metadata": {},
   "outputs": [
    {
     "data": {
      "text/plain": [
       "tensor([[-0.3172, -0.8660,  1.0000]])"
      ]
     },
     "execution_count": 53,
     "metadata": {},
     "output_type": "execute_result"
    }
   ],
   "source": [
    "torch.clamp(t,-1,1)"
   ]
  },
  {
   "cell_type": "markdown",
   "metadata": {},
   "source": [
    "### 归并操作\n",
    "- cumprod(t,axis) 指定维度对t进行累积\n",
    "- cumsum 指定维度对t进行累加\n",
    "- dist(a,b,p=2) 返回a,b之间的p阶范数\n",
    "- mean/median 均值/中位数\n",
    "- std/var\n",
    "- norm(t,p=2) 返回t的p阶范数\n",
    "- prod(t)/sum(t) 返回t所有元素的积/和"
   ]
  },
  {
   "cell_type": "code",
   "execution_count": 57,
   "metadata": {},
   "outputs": [
    {
     "name": "stdout",
     "output_type": "stream",
     "text": [
      "tensor([[ 0.,  2.,  4.],\n",
      "        [ 6.,  8., 10.]])\n",
      "tensor(30.)\n",
      "tensor([[ 6., 10., 14.]]) torch.Size([1, 3])\n"
     ]
    }
   ],
   "source": [
    "a = torch.linspace(0,10,6)\n",
    "a = a.reshape((2,3))\n",
    "print(a)\n",
    "b = a.sum()\n",
    "print(b)\n",
    "# keepdim 保持1的维度\n",
    "b = a.sum(axis=0,keepdim=True)\n",
    "print(b,b.shape)"
   ]
  },
  {
   "cell_type": "markdown",
   "metadata": {},
   "source": [
    "### 比较操作\n",
    "- eq 比较tensor是否相等\n",
    "- equal 比较tensor是否有相同的shape和值\n",
    "- ge/le/gt/lt\n",
    "- max/min(t,axis)\n",
    "- topk(t,k,axis)\n"
   ]
  },
  {
   "cell_type": "code",
   "execution_count": 62,
   "metadata": {},
   "outputs": [
    {
     "data": {
      "text/plain": [
       "tensor([[ 0.,  2.,  4.],\n",
       "        [ 6.,  8., 10.]])"
      ]
     },
     "execution_count": 62,
     "metadata": {},
     "output_type": "execute_result"
    }
   ],
   "source": [
    "a = torch.linspace(0,10,6).view(2,3)\n",
    "\n",
    "a"
   ]
  },
  {
   "cell_type": "code",
   "execution_count": 63,
   "metadata": {},
   "outputs": [
    {
     "data": {
      "text/plain": [
       "tensor(10.)"
      ]
     },
     "execution_count": 63,
     "metadata": {},
     "output_type": "execute_result"
    }
   ],
   "source": [
    "torch.max(a)"
   ]
  },
  {
   "cell_type": "code",
   "execution_count": 64,
   "metadata": {},
   "outputs": [
    {
     "data": {
      "text/plain": [
       "torch.return_types.max(\n",
       "values=tensor([ 6.,  8., 10.]),\n",
       "indices=tensor([1, 1, 1]))"
      ]
     },
     "execution_count": 64,
     "metadata": {},
     "output_type": "execute_result"
    }
   ],
   "source": [
    "torch.max(a,dim=0)"
   ]
  },
  {
   "cell_type": "code",
   "execution_count": 66,
   "metadata": {},
   "outputs": [
    {
     "data": {
      "text/plain": [
       "torch.return_types.topk(\n",
       "values=tensor([[ 4.,  2.],\n",
       "        [10.,  8.]]),\n",
       "indices=tensor([[2, 1],\n",
       "        [2, 1]]))"
      ]
     },
     "execution_count": 66,
     "metadata": {},
     "output_type": "execute_result"
    }
   ],
   "source": [
    "torch.topk(a,2,dim=1)"
   ]
  },
  {
   "cell_type": "markdown",
   "metadata": {},
   "source": [
    "### 矩阵操作\n",
    "- dot(t1,t2)\n",
    "- mm(mat1,mat2)/bmm(batch1,batch2) 计算矩阵乘法/含batch的3D矩阵乘法\n",
    "- mv(t1,v1) 计算矩阵和向量的乘法\n",
    "- t 转置\n",
    "- svd(t) 计算t的SVD分解\n",
    "\n",
    "#### 注意\n",
    "- torch的dot和numpy的dot有不同，torch中是对两个1D张量进行点积运算，而numpy没有限制\n",
    "- 转置运算会导致存储空间不连续，需要使用contiguous方法转换成连续"
   ]
  },
  {
   "cell_type": "code",
   "execution_count": 67,
   "metadata": {},
   "outputs": [],
   "source": [
    "a = torch.tensor([1,2])\n",
    "b = torch.tensor([3,4])"
   ]
  },
  {
   "cell_type": "code",
   "execution_count": 68,
   "metadata": {},
   "outputs": [
    {
     "data": {
      "text/plain": [
       "tensor(11)"
      ]
     },
     "execution_count": 68,
     "metadata": {},
     "output_type": "execute_result"
    }
   ],
   "source": [
    "torch.dot(a,b)"
   ]
  },
  {
   "cell_type": "code",
   "execution_count": 69,
   "metadata": {},
   "outputs": [],
   "source": [
    "a = torch.randint(10,(2,3))\n",
    "b = torch.randint(6,(3,4))"
   ]
  },
  {
   "cell_type": "code",
   "execution_count": 70,
   "metadata": {},
   "outputs": [
    {
     "data": {
      "text/plain": [
       "tensor([[0, 9, 5],\n",
       "        [7, 3, 9]])"
      ]
     },
     "execution_count": 70,
     "metadata": {},
     "output_type": "execute_result"
    }
   ],
   "source": [
    "a"
   ]
  },
  {
   "cell_type": "code",
   "execution_count": 71,
   "metadata": {},
   "outputs": [
    {
     "data": {
      "text/plain": [
       "tensor([[2, 2, 3, 5],\n",
       "        [3, 3, 3, 3],\n",
       "        [1, 3, 0, 1]])"
      ]
     },
     "execution_count": 71,
     "metadata": {},
     "output_type": "execute_result"
    }
   ],
   "source": [
    "b"
   ]
  },
  {
   "cell_type": "code",
   "execution_count": 73,
   "metadata": {},
   "outputs": [
    {
     "data": {
      "text/plain": [
       "tensor([[32, 42, 27, 32],\n",
       "        [32, 50, 30, 53]])"
      ]
     },
     "execution_count": 73,
     "metadata": {},
     "output_type": "execute_result"
    }
   ],
   "source": [
    "torch.mm(a,b)"
   ]
  },
  {
   "cell_type": "markdown",
   "metadata": {},
   "source": [
    "### Tensor和Autograd\n",
    "torch.autograd包用于自动求导，为张量上的所有操作提供了自动求导功能\n",
    "\n",
    "torch.Tensor和torch.Function是autograd的两个核心类，相互连接并生成一个有向非循环图\n",
    "\n",
    "#### 自动求导的要点\n",
    "\n",
    "- 创建Leaf Node的tensor，需要使用requires_grad参数指定，默认为False，指定为True后使用backward()方法求解梯度\n",
    "- 可以使用requires_grad_()方法修改一个tensor的requires_grad属性\n",
    "- 使用.detach()或者with torch.no_grad()，不会计算tensor的梯度，经常用于评估模型、测试模型\n",
    "- 通过运算创建的tensor(不是Leaf node)，会自动赋予grad_fn属性，这个属性表示梯度函数，leaf node的grad_fn是None\n",
    "- 最后得到的tensor执行backward()方法，会自动计算各个变量的梯度，结果保存到grad属性中，计算完成后，非leaf node的梯度自动释放\n",
    "- backward()接收参数，参数应该和调用它的tensor维度相同，或者是可以broadcast的，如果tensor是一个标量，则参数可省略\n",
    "- 反向传播中间缓存会被清空，如果需要进行多次反向传播，需要制定backward中的retain_graph=True，多次反向传播的时候梯度是累加的\n",
    "\n",
    "#### 计算图\n",
    "计算图是一种有向无环图DAG，用来表示算子和变量之间的关系，算子就是运算操作。\n",
    "\n",
    "比如表达式$z=wx+b$，可以写成两个表达式$y=wx$,$z=y+b$，其中$x$,$w$,$b$是用户创建的变量，不依赖于其他变量，所以是叶子节点leaf node。为了计算leaf node的梯度，我们需要把对应tensor的requireds_grad属性设置成True\n",
    "\n",
    "调用backward()方法，会自动计算各个节点的梯度，非叶子节点的计算操作会记录在grad_fn属性中"
   ]
  },
  {
   "cell_type": "code",
   "execution_count": 31,
   "metadata": {},
   "outputs": [
    {
     "name": "stdout",
     "output_type": "stream",
     "text": [
      "x,w,b的requires_grad属性分别是False,True,True\n"
     ]
    }
   ],
   "source": [
    "x = torch.Tensor([2])\n",
    "w = torch.randn(1,requires_grad=True)\n",
    "b = torch.randn(1,requires_grad=True)\n",
    "\n",
    "y = torch.mul(w,x)\n",
    "z = torch.add(y,b)\n",
    "\n",
    "print(f'x,w,b的requires_grad属性分别是{x.requires_grad},{w.requires_grad},{b.requires_grad}')"
   ]
  },
  {
   "cell_type": "code",
   "execution_count": 32,
   "metadata": {},
   "outputs": [
    {
     "name": "stdout",
     "output_type": "stream",
     "text": [
      "y,z的requires_grad属性分别是True,True\n"
     ]
    }
   ],
   "source": [
    "print(f'y,z的requires_grad属性分别是{y.requires_grad},{z.requires_grad}')"
   ]
  },
  {
   "cell_type": "code",
   "execution_count": 33,
   "metadata": {},
   "outputs": [
    {
     "name": "stdout",
     "output_type": "stream",
     "text": [
      "True False\n"
     ]
    }
   ],
   "source": [
    "print(x.is_leaf,y.is_leaf)"
   ]
  },
  {
   "cell_type": "code",
   "execution_count": 34,
   "metadata": {},
   "outputs": [
    {
     "name": "stdout",
     "output_type": "stream",
     "text": [
      "None <MulBackward0 object at 0x7fcdfa83dc50>\n"
     ]
    }
   ],
   "source": [
    "print(x.grad_fn,y.grad_fn)"
   ]
  },
  {
   "cell_type": "code",
   "execution_count": 35,
   "metadata": {},
   "outputs": [
    {
     "name": "stdout",
     "output_type": "stream",
     "text": [
      "w的梯度tensor([2.])，b的梯度tensor([1.])，x的梯度None\n"
     ]
    }
   ],
   "source": [
    "# 反向传播\n",
    "z.backward()\n",
    "print(f'w的梯度{w.grad}，b的梯度{b.grad}，x的梯度{x.grad}')"
   ]
  },
  {
   "cell_type": "markdown",
   "metadata": {},
   "source": [
    "### 完成一个回归任务\n",
    "回归$y=3x^2+2$"
   ]
  },
  {
   "cell_type": "code",
   "execution_count": 43,
   "metadata": {},
   "outputs": [
    {
     "data": {
      "image/png": "[encoded data removed]",
      "text/plain": [
       "<Figure size 432x288 with 1 Axes>"
      ]
     },
     "metadata": {
      "needs_background": "light"
     },
     "output_type": "display_data"
    }
   ],
   "source": [
    "import matplotlib.pyplot as plt\n",
    "%matplotlib inline\n",
    "\n",
    "torch.manual_seed(100)\n",
    "# 在-1~1之间生成100个数据点，并且重构成100x1的tensor\n",
    "x = torch.unsqueeze(torch.linspace(-1,1,100),dim=1)\n",
    "# 生成y的数据\n",
    "y = 3*x.pow(2)+2+0.2*torch.rand(x.size())\n",
    "\n",
    "plt.scatter(x,y)\n",
    "plt.show()"
   ]
  },
  {
   "cell_type": "code",
   "execution_count": 44,
   "metadata": {},
   "outputs": [],
   "source": [
    "# 初始化权重\n",
    "w = torch.randn(1,1,dtype=torch.float,requires_grad=True)\n",
    "b = torch.zeros(1,1,dtype=torch.float,requires_grad=True)"
   ]
  },
  {
   "cell_type": "code",
   "execution_count": 45,
   "metadata": {},
   "outputs": [
    {
     "data": {
      "text/plain": [
       "tensor([[0.2437]], requires_grad=True)"
      ]
     },
     "execution_count": 45,
     "metadata": {},
     "output_type": "execute_result"
    }
   ],
   "source": [
    "w"
   ]
  },
  {
   "cell_type": "code",
   "execution_count": 46,
   "metadata": {},
   "outputs": [
    {
     "data": {
      "text/plain": [
       "tensor([[0.]], requires_grad=True)"
      ]
     },
     "execution_count": 46,
     "metadata": {},
     "output_type": "execute_result"
    }
   ],
   "source": [
    "b"
   ]
  },
  {
   "cell_type": "code",
   "execution_count": 40,
   "metadata": {},
   "outputs": [
    {
     "name": "stdout",
     "output_type": "stream",
     "text": [
      "epoch0:loss=496.4938049316406,w=tensor([[0.3722]], requires_grad=True),b=tensor([[0.3040]], requires_grad=True)\n",
      "epoch50:loss=6.127558708190918,w=tensor([[1.8444]], requires_grad=True),b=tensor([[2.5226]], requires_grad=True)\n",
      "epoch100:loss=2.7781760692596436,w=tensor([[2.2252]], requires_grad=True),b=tensor([[2.3885]], requires_grad=True)\n",
      "epoch150:loss=1.311419129371643,w=tensor([[2.4759]], requires_grad=True),b=tensor([[2.2957]], requires_grad=True)\n",
      "epoch200:loss=0.6685017347335815,w=tensor([[2.6418]], requires_grad=True),b=tensor([[2.2342]], requires_grad=True)\n",
      "epoch250:loss=0.38669225573539734,w=tensor([[2.7516]], requires_grad=True),b=tensor([[2.1935]], requires_grad=True)\n",
      "epoch300:loss=0.2631677985191345,w=tensor([[2.8244]], requires_grad=True),b=tensor([[2.1666]], requires_grad=True)\n",
      "epoch350:loss=0.20902280509471893,w=tensor([[2.8725]], requires_grad=True),b=tensor([[2.1487]], requires_grad=True)\n",
      "epoch400:loss=0.18528974056243896,w=tensor([[2.9044]], requires_grad=True),b=tensor([[2.1369]], requires_grad=True)\n",
      "epoch450:loss=0.17488721013069153,w=tensor([[2.9255]], requires_grad=True),b=tensor([[2.1291]], requires_grad=True)\n",
      "epoch500:loss=0.1703275442123413,w=tensor([[2.9395]], requires_grad=True),b=tensor([[2.1239]], requires_grad=True)\n",
      "epoch550:loss=0.16832900047302246,w=tensor([[2.9487]], requires_grad=True),b=tensor([[2.1205]], requires_grad=True)\n",
      "epoch600:loss=0.1674526333808899,w=tensor([[2.9548]], requires_grad=True),b=tensor([[2.1182]], requires_grad=True)\n",
      "epoch650:loss=0.16706882417201996,w=tensor([[2.9589]], requires_grad=True),b=tensor([[2.1167]], requires_grad=True)\n",
      "epoch700:loss=0.16690053045749664,w=tensor([[2.9616]], requires_grad=True),b=tensor([[2.1157]], requires_grad=True)\n",
      "epoch750:loss=0.16682672500610352,w=tensor([[2.9634]], requires_grad=True),b=tensor([[2.1151]], requires_grad=True)\n"
     ]
    }
   ],
   "source": [
    "# 训练模型\n",
    "lr = 0.001\n",
    "\n",
    "for epoch in range(800):\n",
    "    y_pred = x.pow(2).mm(w) + b\n",
    "    loss = 0.5 * (y_pred - y) ** 2\n",
    "    loss = loss.sum()\n",
    "    \n",
    "    loss.backward()\n",
    "    \n",
    "    with torch.no_grad():\n",
    "        w -= lr*w.grad\n",
    "        b -= lr*b.grad\n",
    "        \n",
    "        w.grad.zero_()\n",
    "        b.grad.zero_()\n",
    "        \n",
    "    if epoch % 50 == 0:\n",
    "        print(f'epoch{epoch}:loss={loss},w={w},b={b}')"
   ]
  }
 ],
 "metadata": {
  "kernelspec": {
   "display_name": "PytorchForDeeplearning",
   "language": "python",
   "name": "pytorch"
  },
  "language_info": {
   "codemirror_mode": {
    "name": "ipython",
    "version": 3
   },
   "file_extension": ".py",
   "mimetype": "text/x-python",
   "name": "python",
   "nbconvert_exporter": "python",
   "pygments_lexer": "ipython3",
   "version": "3.7.7"
  }
 },
 "nbformat": 4,
 "nbformat_minor": 2
}
